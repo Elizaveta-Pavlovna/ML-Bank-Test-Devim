{
 "cells": [
  {
   "cell_type": "markdown",
   "id": "a4783046",
   "metadata": {},
   "source": [
    "# Подключение библиотек и обработка данных\n",
    "Более подробно о предобработке данных см. в файле credit_bad.py"
   ]
  },
  {
   "cell_type": "code",
   "execution_count": 53,
   "id": "e5938177",
   "metadata": {},
   "outputs": [],
   "source": [
    "import pandas as pd\n",
    "import numpy as np\n",
    "import matplotlib\n",
    "import matplotlib.pyplot as plt\n",
    "from scipy import stats\n",
    "import seaborn as sns\n",
    "from decimal import *\n",
    "\n",
    "#  matplotlib.style.use('ggplot')\n",
    "%matplotlib inline"
   ]
  },
  {
   "cell_type": "code",
   "execution_count": 54,
   "id": "6f764f96",
   "metadata": {},
   "outputs": [
    {
     "data": {
      "text/html": [
       "<div>\n",
       "<style scoped>\n",
       "    .dataframe tbody tr th:only-of-type {\n",
       "        vertical-align: middle;\n",
       "    }\n",
       "\n",
       "    .dataframe tbody tr th {\n",
       "        vertical-align: top;\n",
       "    }\n",
       "\n",
       "    .dataframe thead th {\n",
       "        text-align: right;\n",
       "    }\n",
       "</style>\n",
       "<table border=\"1\" class=\"dataframe\">\n",
       "  <thead>\n",
       "    <tr style=\"text-align: right;\">\n",
       "      <th></th>\n",
       "      <th>order_id</th>\n",
       "      <th>cred_sum_cc_all</th>\n",
       "      <th>mfo_inqs_count_month</th>\n",
       "      <th>all_closed_creds_sum_all</th>\n",
       "      <th>bank_inqs_count_quarter</th>\n",
       "      <th>cred_max_overdue_max_ly</th>\n",
       "      <th>all_active_creds_sum_all</th>\n",
       "      <th>mfo_last_days_all</th>\n",
       "      <th>cred_sum_cc_ly</th>\n",
       "      <th>cred_sum_debt_all_all</th>\n",
       "      <th>...</th>\n",
       "      <th>cred_max_overdue_max_3lm</th>\n",
       "      <th>mfo_closed_count_ly</th>\n",
       "      <th>cred_sum_overdue_cc_all</th>\n",
       "      <th>count_overdue_all_3lm</th>\n",
       "      <th>all_creds_count_lm</th>\n",
       "      <th>work_code</th>\n",
       "      <th>month_income</th>\n",
       "      <th>region</th>\n",
       "      <th>bad</th>\n",
       "      <th>approved</th>\n",
       "    </tr>\n",
       "  </thead>\n",
       "  <tbody>\n",
       "    <tr>\n",
       "      <th>0</th>\n",
       "      <td>5498546</td>\n",
       "      <td>0</td>\n",
       "      <td>0</td>\n",
       "      <td>40364</td>\n",
       "      <td>0</td>\n",
       "      <td>0</td>\n",
       "      <td>3000</td>\n",
       "      <td>560</td>\n",
       "      <td>0</td>\n",
       "      <td>0</td>\n",
       "      <td>...</td>\n",
       "      <td>0</td>\n",
       "      <td>0</td>\n",
       "      <td>0</td>\n",
       "      <td>0</td>\n",
       "      <td>0</td>\n",
       "      <td>3</td>\n",
       "      <td>50000</td>\n",
       "      <td>46</td>\n",
       "      <td>NaN</td>\n",
       "      <td>0</td>\n",
       "    </tr>\n",
       "    <tr>\n",
       "      <th>1</th>\n",
       "      <td>5498604</td>\n",
       "      <td>1500</td>\n",
       "      <td>0</td>\n",
       "      <td>23456</td>\n",
       "      <td>0</td>\n",
       "      <td>0</td>\n",
       "      <td>0</td>\n",
       "      <td>9999</td>\n",
       "      <td>0</td>\n",
       "      <td>0</td>\n",
       "      <td>...</td>\n",
       "      <td>0</td>\n",
       "      <td>0</td>\n",
       "      <td>0</td>\n",
       "      <td>0</td>\n",
       "      <td>0</td>\n",
       "      <td>3</td>\n",
       "      <td>35000</td>\n",
       "      <td>17</td>\n",
       "      <td>NaN</td>\n",
       "      <td>0</td>\n",
       "    </tr>\n",
       "    <tr>\n",
       "      <th>2</th>\n",
       "      <td>5498609</td>\n",
       "      <td>0.1</td>\n",
       "      <td>0</td>\n",
       "      <td>17999</td>\n",
       "      <td>3</td>\n",
       "      <td>0</td>\n",
       "      <td>9999</td>\n",
       "      <td>9999</td>\n",
       "      <td>0.1</td>\n",
       "      <td>9999</td>\n",
       "      <td>...</td>\n",
       "      <td>0</td>\n",
       "      <td>0</td>\n",
       "      <td>0</td>\n",
       "      <td>0</td>\n",
       "      <td>2</td>\n",
       "      <td>3</td>\n",
       "      <td>35000</td>\n",
       "      <td>58</td>\n",
       "      <td>NaN</td>\n",
       "      <td>0</td>\n",
       "    </tr>\n",
       "    <tr>\n",
       "      <th>3</th>\n",
       "      <td>5498645</td>\n",
       "      <td>5000</td>\n",
       "      <td>0</td>\n",
       "      <td>313247</td>\n",
       "      <td>0</td>\n",
       "      <td>0</td>\n",
       "      <td>0</td>\n",
       "      <td>9999</td>\n",
       "      <td>0</td>\n",
       "      <td>0</td>\n",
       "      <td>...</td>\n",
       "      <td>0</td>\n",
       "      <td>0</td>\n",
       "      <td>4923.97</td>\n",
       "      <td>0</td>\n",
       "      <td>0</td>\n",
       "      <td>5</td>\n",
       "      <td>35000</td>\n",
       "      <td>4</td>\n",
       "      <td>NaN</td>\n",
       "      <td>0</td>\n",
       "    </tr>\n",
       "    <tr>\n",
       "      <th>4</th>\n",
       "      <td>5498647</td>\n",
       "      <td>0</td>\n",
       "      <td>0</td>\n",
       "      <td>0</td>\n",
       "      <td>1</td>\n",
       "      <td>0</td>\n",
       "      <td>0</td>\n",
       "      <td>9999</td>\n",
       "      <td>0</td>\n",
       "      <td>0</td>\n",
       "      <td>...</td>\n",
       "      <td>0</td>\n",
       "      <td>0</td>\n",
       "      <td>0</td>\n",
       "      <td>0</td>\n",
       "      <td>0</td>\n",
       "      <td>5</td>\n",
       "      <td>35000</td>\n",
       "      <td>34</td>\n",
       "      <td>NaN</td>\n",
       "      <td>0</td>\n",
       "    </tr>\n",
       "  </tbody>\n",
       "</table>\n",
       "<p>5 rows × 25 columns</p>\n",
       "</div>"
      ],
      "text/plain": [
       "   order_id cred_sum_cc_all  mfo_inqs_count_month  all_closed_creds_sum_all  \\\n",
       "0   5498546               0                     0                     40364   \n",
       "1   5498604            1500                     0                     23456   \n",
       "2   5498609             0.1                     0                     17999   \n",
       "3   5498645            5000                     0                    313247   \n",
       "4   5498647               0                     0                         0   \n",
       "\n",
       "   bank_inqs_count_quarter cred_max_overdue_max_ly  all_active_creds_sum_all  \\\n",
       "0                        0                       0                      3000   \n",
       "1                        0                       0                         0   \n",
       "2                        3                       0                      9999   \n",
       "3                        0                       0                         0   \n",
       "4                        1                       0                         0   \n",
       "\n",
       "   mfo_last_days_all cred_sum_cc_ly cred_sum_debt_all_all  ...  \\\n",
       "0                560              0                     0  ...   \n",
       "1               9999              0                     0  ...   \n",
       "2               9999            0.1                  9999  ...   \n",
       "3               9999              0                     0  ...   \n",
       "4               9999              0                     0  ...   \n",
       "\n",
       "   cred_max_overdue_max_3lm mfo_closed_count_ly  cred_sum_overdue_cc_all  \\\n",
       "0                         0                   0                        0   \n",
       "1                         0                   0                        0   \n",
       "2                         0                   0                        0   \n",
       "3                         0                   0                  4923.97   \n",
       "4                         0                   0                        0   \n",
       "\n",
       "   count_overdue_all_3lm  all_creds_count_lm work_code  month_income region  \\\n",
       "0                      0                   0         3         50000     46   \n",
       "1                      0                   0         3         35000     17   \n",
       "2                      0                   2         3         35000     58   \n",
       "3                      0                   0         5         35000      4   \n",
       "4                      0                   0         5         35000     34   \n",
       "\n",
       "   bad  approved  \n",
       "0  NaN         0  \n",
       "1  NaN         0  \n",
       "2  NaN         0  \n",
       "3  NaN         0  \n",
       "4  NaN         0  \n",
       "\n",
       "[5 rows x 25 columns]"
      ]
     },
     "execution_count": 54,
     "metadata": {},
     "output_type": "execute_result"
    }
   ],
   "source": [
    "credit_approved = pd.read_csv('data.csv', sep=',', decimal=\",\")\n",
    "credit_approved.head()"
   ]
  },
  {
   "cell_type": "code",
   "execution_count": 55,
   "id": "12d20e77",
   "metadata": {},
   "outputs": [],
   "source": [
    "credit_approved = credit_approved.fillna(-1)\n",
    "#credit_approved['bad'] = credit_approved['bad'].astype(int)"
   ]
  },
  {
   "cell_type": "code",
   "execution_count": 56,
   "id": "3115497f",
   "metadata": {},
   "outputs": [],
   "source": [
    "for column in credit.columns:\n",
    "    if credit_approved[column].dtype == 'object':\n",
    "        credit_approved[column] = pd.to_numeric(credit_approved[column])\n",
    "    if credit_approved[column].dtype == 'float64':\n",
    "        credit_approved[column] *= 10 ** (max([Decimal(str(i)).as_tuple().exponent*(-1) for i in credit_approved[column]]))\n",
    "        credit_approved[column] = credit_approved[column].astype('int')"
   ]
  },
  {
   "cell_type": "code",
   "execution_count": 57,
   "id": "e6c6f09f",
   "metadata": {},
   "outputs": [],
   "source": [
    "credit_approved = credit_approved.drop(['all_active_creds_sum_all'], axis = 1)"
   ]
  },
  {
   "cell_type": "code",
   "execution_count": 58,
   "id": "3e84c1fe",
   "metadata": {},
   "outputs": [],
   "source": [
    "credit_approved = credit_approved.drop(['bad'], axis = 1)"
   ]
  },
  {
   "cell_type": "code",
   "execution_count": 59,
   "id": "b2fe0141",
   "metadata": {},
   "outputs": [
    {
     "data": {
      "text/plain": [
       "<AxesSubplot: xlabel='approved', ylabel='count'>"
      ]
     },
     "execution_count": 59,
     "metadata": {},
     "output_type": "execute_result"
    },
    {
     "data": {
      "image/png": "[encoded data removed]",
      "text/plain": [
       "<Figure size 432x288 with 1 Axes>"
      ]
     },
     "metadata": {
      "needs_background": "light"
     },
     "output_type": "display_data"
    }
   ],
   "source": [
    "sns.countplot(x=credit['approved'])"
   ]
  },
  {
   "cell_type": "code",
   "execution_count": 60,
   "id": "2a98483b",
   "metadata": {},
   "outputs": [
    {
     "data": {
      "text/plain": [
       "(23116, 23)"
      ]
     },
     "execution_count": 60,
     "metadata": {},
     "output_type": "execute_result"
    }
   ],
   "source": [
    "credit_approved.shape"
   ]
  },
  {
   "cell_type": "code",
   "execution_count": 61,
   "id": "bc866a97",
   "metadata": {},
   "outputs": [],
   "source": [
    "X = credit_approved.iloc[:, :-1].values  \n",
    "y = credit_approved.iloc[:, 22].values "
   ]
  },
  {
   "cell_type": "code",
   "execution_count": 62,
   "id": "f0330936",
   "metadata": {},
   "outputs": [],
   "source": [
    "from sklearn.model_selection import train_test_split  "
   ]
  },
  {
   "cell_type": "code",
   "execution_count": 63,
   "id": "41fdac27",
   "metadata": {},
   "outputs": [],
   "source": [
    "X_train, X_test, y_train, y_test = train_test_split(X, y, test_size=0.33, random_state = 1234)"
   ]
  },
  {
   "cell_type": "markdown",
   "id": "518a73a8",
   "metadata": {},
   "source": [
    "# KNN-classifier"
   ]
  },
  {
   "cell_type": "code",
   "execution_count": 64,
   "id": "47f6ce6e",
   "metadata": {},
   "outputs": [],
   "source": [
    "#  Проведем стандартизацию предикторов\n",
    "\n",
    "from sklearn.preprocessing import StandardScaler\n",
    "\n",
    "scaler = StandardScaler()\n",
    "scaler.fit(X_train)\n",
    "\n",
    "X_train_2 = scaler.transform(X_train)  \n",
    "X_test_2 = scaler.transform(X_test) "
   ]
  },
  {
   "cell_type": "code",
   "execution_count": 65,
   "id": "f13a4b30",
   "metadata": {},
   "outputs": [
    {
     "name": "stdout",
     "output_type": "stream",
     "text": [
      "[0.2  0.19 0.16 0.17 0.16 0.16 0.16 0.16 0.16 0.16 0.16 0.16 0.15 0.16\n",
      " 0.16]\n"
     ]
    }
   ],
   "source": [
    "from sklearn.neighbors import KNeighborsClassifier  \n",
    "\n",
    "#  Определяем оптимальное число ближайших соседей\n",
    "#  Число ближайших соседей меняем от 1 до 15\n",
    "#  Каждый раз считаем accuracy (долю правильных распознаваний)\n",
    "#  error - доля ошибок при разных к\n",
    "\n",
    "error_rate = [-1]*15  \n",
    "\n",
    "for i in range(1, 16):  \n",
    "    knn_res = KNeighborsClassifier(n_neighbors=i)\n",
    "    knn_res.fit(X_train_2, y_train)\n",
    "    pred_i = knn_res.predict(X_test_2)\n",
    "    error_rate[i-1]= np.mean(pred_i != y_test)\n",
    "    \n",
    "print(np.round_(error_rate, 2))"
   ]
  },
  {
   "cell_type": "code",
   "execution_count": 66,
   "id": "4cc61e21",
   "metadata": {},
   "outputs": [
    {
     "data": {
      "text/plain": [
       "Text(0, 0.5, 'Доля ошибок')"
      ]
     },
     "execution_count": 66,
     "metadata": {},
     "output_type": "execute_result"
    },
    {
     "data": {
      "image/png": "[encoded data removed]",
      "text/plain": [
       "<Figure size 864x432 with 1 Axes>"
      ]
     },
     "metadata": {
      "needs_background": "light"
     },
     "output_type": "display_data"
    }
   ],
   "source": [
    "plt.figure(figsize=(12, 6))  \n",
    "plt.plot(range(1, 16), error_rate, color='green', linestyle='dashed', marker='o',  \n",
    "         markerfacecolor='green', markersize=10)\n",
    "\n",
    "plt.title(u'Доля ошибок для разных К')  \n",
    "plt.xlabel(u'Значение K')  \n",
    "plt.ylabel(u'Доля ошибок')"
   ]
  },
  {
   "cell_type": "markdown",
   "id": "7f5b0477",
   "metadata": {},
   "source": [
    "Нужно суметь правильно выбрать выбрать k так, чтобы минимизировать погрешность, и в то же время не рассматривать слишком большое значение"
   ]
  },
  {
   "cell_type": "code",
   "execution_count": 67,
   "id": "14afca05",
   "metadata": {},
   "outputs": [
    {
     "data": {
      "text/html": [
       "<style>#sk-container-id-4 {color: black;background-color: white;}#sk-container-id-4 pre{padding: 0;}#sk-container-id-4 div.sk-toggleable {background-color: white;}#sk-container-id-4 label.sk-toggleable__label {cursor: pointer;display: block;width: 100%;margin-bottom: 0;padding: 0.3em;box-sizing: border-box;text-align: center;}#sk-container-id-4 label.sk-toggleable__label-arrow:before {content: \"▸\";float: left;margin-right: 0.25em;color: #696969;}#sk-container-id-4 label.sk-toggleable__label-arrow:hover:before {color: black;}#sk-container-id-4 div.sk-estimator:hover label.sk-toggleable__label-arrow:before {color: black;}#sk-container-id-4 div.sk-toggleable__content {max-height: 0;max-width: 0;overflow: hidden;text-align: left;background-color: #f0f8ff;}#sk-container-id-4 div.sk-toggleable__content pre {margin: 0.2em;color: black;border-radius: 0.25em;background-color: #f0f8ff;}#sk-container-id-4 input.sk-toggleable__control:checked~div.sk-toggleable__content {max-height: 200px;max-width: 100%;overflow: auto;}#sk-container-id-4 input.sk-toggleable__control:checked~label.sk-toggleable__label-arrow:before {content: \"▾\";}#sk-container-id-4 div.sk-estimator input.sk-toggleable__control:checked~label.sk-toggleable__label {background-color: #d4ebff;}#sk-container-id-4 div.sk-label input.sk-toggleable__control:checked~label.sk-toggleable__label {background-color: #d4ebff;}#sk-container-id-4 input.sk-hidden--visually {border: 0;clip: rect(1px 1px 1px 1px);clip: rect(1px, 1px, 1px, 1px);height: 1px;margin: -1px;overflow: hidden;padding: 0;position: absolute;width: 1px;}#sk-container-id-4 div.sk-estimator {font-family: monospace;background-color: #f0f8ff;border: 1px dotted black;border-radius: 0.25em;box-sizing: border-box;margin-bottom: 0.5em;}#sk-container-id-4 div.sk-estimator:hover {background-color: #d4ebff;}#sk-container-id-4 div.sk-parallel-item::after {content: \"\";width: 100%;border-bottom: 1px solid gray;flex-grow: 1;}#sk-container-id-4 div.sk-label:hover label.sk-toggleable__label {background-color: #d4ebff;}#sk-container-id-4 div.sk-serial::before {content: \"\";position: absolute;border-left: 1px solid gray;box-sizing: border-box;top: 0;bottom: 0;left: 50%;z-index: 0;}#sk-container-id-4 div.sk-serial {display: flex;flex-direction: column;align-items: center;background-color: white;padding-right: 0.2em;padding-left: 0.2em;position: relative;}#sk-container-id-4 div.sk-item {position: relative;z-index: 1;}#sk-container-id-4 div.sk-parallel {display: flex;align-items: stretch;justify-content: center;background-color: white;position: relative;}#sk-container-id-4 div.sk-item::before, #sk-container-id-4 div.sk-parallel-item::before {content: \"\";position: absolute;border-left: 1px solid gray;box-sizing: border-box;top: 0;bottom: 0;left: 50%;z-index: -1;}#sk-container-id-4 div.sk-parallel-item {display: flex;flex-direction: column;z-index: 1;position: relative;background-color: white;}#sk-container-id-4 div.sk-parallel-item:first-child::after {align-self: flex-end;width: 50%;}#sk-container-id-4 div.sk-parallel-item:last-child::after {align-self: flex-start;width: 50%;}#sk-container-id-4 div.sk-parallel-item:only-child::after {width: 0;}#sk-container-id-4 div.sk-dashed-wrapped {border: 1px dashed gray;margin: 0 0.4em 0.5em 0.4em;box-sizing: border-box;padding-bottom: 0.4em;background-color: white;}#sk-container-id-4 div.sk-label label {font-family: monospace;font-weight: bold;display: inline-block;line-height: 1.2em;}#sk-container-id-4 div.sk-label-container {text-align: center;}#sk-container-id-4 div.sk-container {/* jupyter's `normalize.less` sets `[hidden] { display: none; }` but bootstrap.min.css set `[hidden] { display: none !important; }` so we also need the `!important` here to be able to override the default hidden behavior on the sphinx rendered scikit-learn.org. See: https://github.com/scikit-learn/scikit-learn/issues/21755 */display: inline-block !important;position: relative;}#sk-container-id-4 div.sk-text-repr-fallback {display: none;}</style><div id=\"sk-container-id-4\" class=\"sk-top-container\"><div class=\"sk-text-repr-fallback\"><pre>GridSearchCV(cv=2, estimator=KNeighborsClassifier(leaf_size=10),\n",
       "             param_grid={&#x27;leaf_size&#x27;: [5, 10, 20, 30],\n",
       "                         &#x27;metric&#x27;: [&#x27;minkowski&#x27;, &#x27;euclidean&#x27;, &#x27;chebyshev&#x27;,\n",
       "                                    &#x27;cosine&#x27;]},\n",
       "             scoring=&#x27;accuracy&#x27;)</pre><b>In a Jupyter environment, please rerun this cell to show the HTML representation or trust the notebook. <br />On GitHub, the HTML representation is unable to render, please try loading this page with nbviewer.org.</b></div><div class=\"sk-container\" hidden><div class=\"sk-item sk-dashed-wrapped\"><div class=\"sk-label-container\"><div class=\"sk-label sk-toggleable\"><input class=\"sk-toggleable__control sk-hidden--visually\" id=\"sk-estimator-id-10\" type=\"checkbox\" ><label for=\"sk-estimator-id-10\" class=\"sk-toggleable__label sk-toggleable__label-arrow\">GridSearchCV</label><div class=\"sk-toggleable__content\"><pre>GridSearchCV(cv=2, estimator=KNeighborsClassifier(leaf_size=10),\n",
       "             param_grid={&#x27;leaf_size&#x27;: [5, 10, 20, 30],\n",
       "                         &#x27;metric&#x27;: [&#x27;minkowski&#x27;, &#x27;euclidean&#x27;, &#x27;chebyshev&#x27;,\n",
       "                                    &#x27;cosine&#x27;]},\n",
       "             scoring=&#x27;accuracy&#x27;)</pre></div></div></div><div class=\"sk-parallel\"><div class=\"sk-parallel-item\"><div class=\"sk-item\"><div class=\"sk-label-container\"><div class=\"sk-label sk-toggleable\"><input class=\"sk-toggleable__control sk-hidden--visually\" id=\"sk-estimator-id-11\" type=\"checkbox\" ><label for=\"sk-estimator-id-11\" class=\"sk-toggleable__label sk-toggleable__label-arrow\">estimator: KNeighborsClassifier</label><div class=\"sk-toggleable__content\"><pre>KNeighborsClassifier(leaf_size=10)</pre></div></div></div><div class=\"sk-serial\"><div class=\"sk-item\"><div class=\"sk-estimator sk-toggleable\"><input class=\"sk-toggleable__control sk-hidden--visually\" id=\"sk-estimator-id-12\" type=\"checkbox\" ><label for=\"sk-estimator-id-12\" class=\"sk-toggleable__label sk-toggleable__label-arrow\">KNeighborsClassifier</label><div class=\"sk-toggleable__content\"><pre>KNeighborsClassifier(leaf_size=10)</pre></div></div></div></div></div></div></div></div></div></div>"
      ],
      "text/plain": [
       "GridSearchCV(cv=2, estimator=KNeighborsClassifier(leaf_size=10),\n",
       "             param_grid={'leaf_size': [5, 10, 20, 30],\n",
       "                         'metric': ['minkowski', 'euclidean', 'chebyshev',\n",
       "                                    'cosine']},\n",
       "             scoring='accuracy')"
      ]
     },
     "execution_count": 67,
     "metadata": {},
     "output_type": "execute_result"
    }
   ],
   "source": [
    "from sklearn.model_selection import GridSearchCV\n",
    "\n",
    "param_grid = {  \n",
    "      'metric': ['minkowski','euclidean', 'chebyshev', 'cosine'],\n",
    "      'leaf_size': [5, 10, 20, 30]\n",
    "}\n",
    "\n",
    "knn = KNeighborsClassifier(n_neighbors=5,       \n",
    "        metric='minkowski', leaf_size=10)\n",
    "\n",
    "grid_CV = GridSearchCV(knn, param_grid=param_grid, \n",
    "                               cv=2, \n",
    "                               scoring='accuracy')\n",
    "\n",
    "grid_CV.fit(X_train_2, y_train)"
   ]
  },
  {
   "cell_type": "code",
   "execution_count": 68,
   "id": "012c6dff",
   "metadata": {},
   "outputs": [
    {
     "name": "stdout",
     "output_type": "stream",
     "text": [
      "Лучшие значения гиперпараметров:\n",
      " {'leaf_size': 5, 'metric': 'cosine'}\n"
     ]
    }
   ],
   "source": [
    "best_hyperparams = grid_CV.best_params_\n",
    "print('Лучшие значения гиперпараметров:\\n', best_hyperparams)"
   ]
  },
  {
   "cell_type": "code",
   "execution_count": 69,
   "id": "d967ebf2",
   "metadata": {},
   "outputs": [],
   "source": [
    "knn = grid_CV.best_estimator_"
   ]
  },
  {
   "cell_type": "code",
   "execution_count": 70,
   "id": "f9a69d79",
   "metadata": {},
   "outputs": [],
   "source": [
    "y_train_pred = knn.predict(X_train_2)  \n",
    "y_test_pred = knn.predict(X_test_2)"
   ]
  },
  {
   "cell_type": "code",
   "execution_count": 71,
   "id": "bd52e915",
   "metadata": {},
   "outputs": [],
   "source": [
    "from sklearn.metrics import confusion_matrix, accuracy_score\n",
    "from sklearn.metrics import classification_report"
   ]
  },
  {
   "cell_type": "code",
   "execution_count": 72,
   "id": "fac70b21",
   "metadata": {},
   "outputs": [
    {
     "name": "stdout",
     "output_type": "stream",
     "text": [
      "Таблица сопряженности для обучающей выборки\n",
      "      0     1\n",
      "0  9849   710\n",
      "1  1111  3817\n",
      " \n",
      "Accuracy на обучающей выборке 0.8824175114612255\n",
      " \n",
      "              precision    recall  f1-score   support\n",
      "\n",
      "           0       0.90      0.93      0.92     10559\n",
      "           1       0.84      0.77      0.81      4928\n",
      "\n",
      "    accuracy                           0.88     15487\n",
      "   macro avg       0.87      0.85      0.86     15487\n",
      "weighted avg       0.88      0.88      0.88     15487\n",
      "\n"
     ]
    }
   ],
   "source": [
    "conf_mat = confusion_matrix(y_train, y_train_pred)\n",
    "conf_mat_train = pd.DataFrame(conf_mat, index=knn.classes_, columns=knn.classes_)\n",
    "\n",
    "print(u'Таблица сопряженности для обучающей выборки')\n",
    "print(conf_mat_train)  \n",
    "print(' ')\n",
    "print('Accuracy на обучающей выборке', accuracy_score(y_train, y_train_pred, normalize=True))\n",
    "print(' ')\n",
    "print(classification_report(y_train, y_train_pred)) "
   ]
  },
  {
   "cell_type": "code",
   "execution_count": 73,
   "id": "4342d14f",
   "metadata": {},
   "outputs": [
    {
     "name": "stdout",
     "output_type": "stream",
     "text": [
      "Таблица сопряженности для тестовой выборки\n",
      "      0     1\n",
      "0  4793   495\n",
      "1   709  1632\n",
      " \n",
      "Accuracy на тестовой выборке 0.8421811508716739\n",
      " \n",
      "              precision    recall  f1-score   support\n",
      "\n",
      "           0       0.87      0.91      0.89      5288\n",
      "           1       0.77      0.70      0.73      2341\n",
      "\n",
      "    accuracy                           0.84      7629\n",
      "   macro avg       0.82      0.80      0.81      7629\n",
      "weighted avg       0.84      0.84      0.84      7629\n",
      "\n"
     ]
    }
   ],
   "source": [
    "conf_mat = confusion_matrix(y_test, y_test_pred)\n",
    "conf_mat_test = pd.DataFrame(conf_mat, index=knn.classes_, columns=knn.classes_)\n",
    "\n",
    "print(u'Таблица сопряженности для тестовой выборки')\n",
    "print(conf_mat_test)  \n",
    "print(' ')\n",
    "print('Accuracy на тестовой выборке', accuracy_score(y_test, y_test_pred, normalize=True))\n",
    "print(' ')\n",
    "print(classification_report(y_test, y_test_pred))"
   ]
  },
  {
   "cell_type": "markdown",
   "id": "b514715b",
   "metadata": {},
   "source": [
    "# Decision Tree Classifier"
   ]
  },
  {
   "cell_type": "code",
   "execution_count": 74,
   "id": "4cd84392",
   "metadata": {},
   "outputs": [],
   "source": [
    "from sklearn.tree import DecisionTreeClassifier"
   ]
  },
  {
   "cell_type": "code",
   "execution_count": 75,
   "id": "f94c8d07",
   "metadata": {},
   "outputs": [
    {
     "data": {
      "text/html": [
       "<style>#sk-container-id-5 {color: black;background-color: white;}#sk-container-id-5 pre{padding: 0;}#sk-container-id-5 div.sk-toggleable {background-color: white;}#sk-container-id-5 label.sk-toggleable__label {cursor: pointer;display: block;width: 100%;margin-bottom: 0;padding: 0.3em;box-sizing: border-box;text-align: center;}#sk-container-id-5 label.sk-toggleable__label-arrow:before {content: \"▸\";float: left;margin-right: 0.25em;color: #696969;}#sk-container-id-5 label.sk-toggleable__label-arrow:hover:before {color: black;}#sk-container-id-5 div.sk-estimator:hover label.sk-toggleable__label-arrow:before {color: black;}#sk-container-id-5 div.sk-toggleable__content {max-height: 0;max-width: 0;overflow: hidden;text-align: left;background-color: #f0f8ff;}#sk-container-id-5 div.sk-toggleable__content pre {margin: 0.2em;color: black;border-radius: 0.25em;background-color: #f0f8ff;}#sk-container-id-5 input.sk-toggleable__control:checked~div.sk-toggleable__content {max-height: 200px;max-width: 100%;overflow: auto;}#sk-container-id-5 input.sk-toggleable__control:checked~label.sk-toggleable__label-arrow:before {content: \"▾\";}#sk-container-id-5 div.sk-estimator input.sk-toggleable__control:checked~label.sk-toggleable__label {background-color: #d4ebff;}#sk-container-id-5 div.sk-label input.sk-toggleable__control:checked~label.sk-toggleable__label {background-color: #d4ebff;}#sk-container-id-5 input.sk-hidden--visually {border: 0;clip: rect(1px 1px 1px 1px);clip: rect(1px, 1px, 1px, 1px);height: 1px;margin: -1px;overflow: hidden;padding: 0;position: absolute;width: 1px;}#sk-container-id-5 div.sk-estimator {font-family: monospace;background-color: #f0f8ff;border: 1px dotted black;border-radius: 0.25em;box-sizing: border-box;margin-bottom: 0.5em;}#sk-container-id-5 div.sk-estimator:hover {background-color: #d4ebff;}#sk-container-id-5 div.sk-parallel-item::after {content: \"\";width: 100%;border-bottom: 1px solid gray;flex-grow: 1;}#sk-container-id-5 div.sk-label:hover label.sk-toggleable__label {background-color: #d4ebff;}#sk-container-id-5 div.sk-serial::before {content: \"\";position: absolute;border-left: 1px solid gray;box-sizing: border-box;top: 0;bottom: 0;left: 50%;z-index: 0;}#sk-container-id-5 div.sk-serial {display: flex;flex-direction: column;align-items: center;background-color: white;padding-right: 0.2em;padding-left: 0.2em;position: relative;}#sk-container-id-5 div.sk-item {position: relative;z-index: 1;}#sk-container-id-5 div.sk-parallel {display: flex;align-items: stretch;justify-content: center;background-color: white;position: relative;}#sk-container-id-5 div.sk-item::before, #sk-container-id-5 div.sk-parallel-item::before {content: \"\";position: absolute;border-left: 1px solid gray;box-sizing: border-box;top: 0;bottom: 0;left: 50%;z-index: -1;}#sk-container-id-5 div.sk-parallel-item {display: flex;flex-direction: column;z-index: 1;position: relative;background-color: white;}#sk-container-id-5 div.sk-parallel-item:first-child::after {align-self: flex-end;width: 50%;}#sk-container-id-5 div.sk-parallel-item:last-child::after {align-self: flex-start;width: 50%;}#sk-container-id-5 div.sk-parallel-item:only-child::after {width: 0;}#sk-container-id-5 div.sk-dashed-wrapped {border: 1px dashed gray;margin: 0 0.4em 0.5em 0.4em;box-sizing: border-box;padding-bottom: 0.4em;background-color: white;}#sk-container-id-5 div.sk-label label {font-family: monospace;font-weight: bold;display: inline-block;line-height: 1.2em;}#sk-container-id-5 div.sk-label-container {text-align: center;}#sk-container-id-5 div.sk-container {/* jupyter's `normalize.less` sets `[hidden] { display: none; }` but bootstrap.min.css set `[hidden] { display: none !important; }` so we also need the `!important` here to be able to override the default hidden behavior on the sphinx rendered scikit-learn.org. See: https://github.com/scikit-learn/scikit-learn/issues/21755 */display: inline-block !important;position: relative;}#sk-container-id-5 div.sk-text-repr-fallback {display: none;}</style><div id=\"sk-container-id-5\" class=\"sk-top-container\"><div class=\"sk-text-repr-fallback\"><pre>GridSearchCV(cv=5,\n",
       "             estimator=DecisionTreeClassifier(max_depth=6, min_samples_leaf=8,\n",
       "                                              min_samples_split=10,\n",
       "                                              random_state=42),\n",
       "             n_jobs=-1,\n",
       "             param_grid={&#x27;max_depth&#x27;: [4, 6, 7], &#x27;min_samples_leaf&#x27;: [4, 8, 10],\n",
       "                         &#x27;min_samples_split&#x27;: [8, 10, 12]},\n",
       "             scoring=&#x27;accuracy&#x27;)</pre><b>In a Jupyter environment, please rerun this cell to show the HTML representation or trust the notebook. <br />On GitHub, the HTML representation is unable to render, please try loading this page with nbviewer.org.</b></div><div class=\"sk-container\" hidden><div class=\"sk-item sk-dashed-wrapped\"><div class=\"sk-label-container\"><div class=\"sk-label sk-toggleable\"><input class=\"sk-toggleable__control sk-hidden--visually\" id=\"sk-estimator-id-13\" type=\"checkbox\" ><label for=\"sk-estimator-id-13\" class=\"sk-toggleable__label sk-toggleable__label-arrow\">GridSearchCV</label><div class=\"sk-toggleable__content\"><pre>GridSearchCV(cv=5,\n",
       "             estimator=DecisionTreeClassifier(max_depth=6, min_samples_leaf=8,\n",
       "                                              min_samples_split=10,\n",
       "                                              random_state=42),\n",
       "             n_jobs=-1,\n",
       "             param_grid={&#x27;max_depth&#x27;: [4, 6, 7], &#x27;min_samples_leaf&#x27;: [4, 8, 10],\n",
       "                         &#x27;min_samples_split&#x27;: [8, 10, 12]},\n",
       "             scoring=&#x27;accuracy&#x27;)</pre></div></div></div><div class=\"sk-parallel\"><div class=\"sk-parallel-item\"><div class=\"sk-item\"><div class=\"sk-label-container\"><div class=\"sk-label sk-toggleable\"><input class=\"sk-toggleable__control sk-hidden--visually\" id=\"sk-estimator-id-14\" type=\"checkbox\" ><label for=\"sk-estimator-id-14\" class=\"sk-toggleable__label sk-toggleable__label-arrow\">estimator: DecisionTreeClassifier</label><div class=\"sk-toggleable__content\"><pre>DecisionTreeClassifier(max_depth=6, min_samples_leaf=8, min_samples_split=10,\n",
       "                       random_state=42)</pre></div></div></div><div class=\"sk-serial\"><div class=\"sk-item\"><div class=\"sk-estimator sk-toggleable\"><input class=\"sk-toggleable__control sk-hidden--visually\" id=\"sk-estimator-id-15\" type=\"checkbox\" ><label for=\"sk-estimator-id-15\" class=\"sk-toggleable__label sk-toggleable__label-arrow\">DecisionTreeClassifier</label><div class=\"sk-toggleable__content\"><pre>DecisionTreeClassifier(max_depth=6, min_samples_leaf=8, min_samples_split=10,\n",
       "                       random_state=42)</pre></div></div></div></div></div></div></div></div></div></div>"
      ],
      "text/plain": [
       "GridSearchCV(cv=5,\n",
       "             estimator=DecisionTreeClassifier(max_depth=6, min_samples_leaf=8,\n",
       "                                              min_samples_split=10,\n",
       "                                              random_state=42),\n",
       "             n_jobs=-1,\n",
       "             param_grid={'max_depth': [4, 6, 7], 'min_samples_leaf': [4, 8, 10],\n",
       "                         'min_samples_split': [8, 10, 12]},\n",
       "             scoring='accuracy')"
      ]
     },
     "execution_count": 75,
     "metadata": {},
     "output_type": "execute_result"
    }
   ],
   "source": [
    "params_set = {\n",
    "'max_depth': [4, 6, 7],\n",
    "'min_samples_split': [8, 10, 12],\n",
    "'min_samples_leaf': [4, 8, 10]\n",
    "}\n",
    "\n",
    "dtl = DecisionTreeClassifier(random_state=42,\n",
    "                               max_depth=6,\n",
    "                               min_samples_split=10,\n",
    "                               min_samples_leaf=8)\n",
    "\n",
    "grid_CV = GridSearchCV(estimator = dtl,\n",
    "       param_grid = params_set,\n",
    "       scoring = 'accuracy',\n",
    "       cv = 5,\n",
    "       n_jobs = -1)\n",
    "\n",
    "grid_CV.fit(X_train, y_train)"
   ]
  },
  {
   "cell_type": "code",
   "execution_count": 76,
   "id": "238450b6",
   "metadata": {},
   "outputs": [
    {
     "name": "stdout",
     "output_type": "stream",
     "text": [
      "Лучшие значения гиперпараметров:\n",
      " {'max_depth': 6, 'min_samples_leaf': 10, 'min_samples_split': 8}\n"
     ]
    }
   ],
   "source": [
    "best_hyperparams = grid_CV.best_params_\n",
    "print('Лучшие значения гиперпараметров:\\n', best_hyperparams)"
   ]
  },
  {
   "cell_type": "code",
   "execution_count": 77,
   "id": "ecc1dcc1",
   "metadata": {},
   "outputs": [
    {
     "name": "stdout",
     "output_type": "stream",
     "text": [
      "Таблица сопряженности для обучающей выборки\n",
      "      0     1\n",
      "0  9680   879\n",
      "1   812  4116\n",
      " \n",
      "Accuracy на обучающей выборке 0.8908116484793698\n",
      " \n",
      "              precision    recall  f1-score   support\n",
      "\n",
      "           0       0.92      0.92      0.92     10559\n",
      "           1       0.82      0.84      0.83      4928\n",
      "\n",
      "    accuracy                           0.89     15487\n",
      "   macro avg       0.87      0.88      0.87     15487\n",
      "weighted avg       0.89      0.89      0.89     15487\n",
      "\n",
      " \n",
      "Таблица сопряженности для тестовой выборки\n",
      "      0     1\n",
      "0  4820   468\n",
      "1   411  1930\n",
      " \n",
      "Accuracy на тестовой выборке 0.8847817538340542\n",
      " \n",
      "              precision    recall  f1-score   support\n",
      "\n",
      "           0       0.92      0.91      0.92      5288\n",
      "           1       0.80      0.82      0.81      2341\n",
      "\n",
      "    accuracy                           0.88      7629\n",
      "   macro avg       0.86      0.87      0.87      7629\n",
      "weighted avg       0.89      0.88      0.89      7629\n",
      "\n"
     ]
    }
   ],
   "source": [
    "best_model = grid_CV.best_estimator_\n",
    "\n",
    "y_pred_train = best_model.predict(X_train)  \n",
    "y_pred_test = best_model.predict(X_test) \n",
    "\n",
    "conf_mat = confusion_matrix(y_train, y_pred_train)\n",
    "conf_mat_train = pd.DataFrame(conf_mat, index=best_model.classes_, columns=best_model.classes_)\n",
    "\n",
    "print(u'Таблица сопряженности для обучающей выборки')\n",
    "print(conf_mat_train)  \n",
    "print(' ')\n",
    "print('Accuracy на обучающей выборке', accuracy_score(y_train, y_pred_train, normalize=True))\n",
    "print(' ')\n",
    "print(classification_report(y_train, y_pred_train)) \n",
    "\n",
    "conf_mat = confusion_matrix(y_test, y_pred_test)\n",
    "conf_mat_test = pd.DataFrame(conf_mat, index=best_model.classes_, columns=best_model.classes_)\n",
    "\n",
    "print(' ')\n",
    "print(u'Таблица сопряженности для тестовой выборки')\n",
    "print(conf_mat_test) \n",
    "print(' ')\n",
    "print('Accuracy на тестовой выборке', accuracy_score(y_test, y_pred_test, normalize=True))\n",
    "print(' ')\n",
    "print(classification_report(y_test, y_pred_test))"
   ]
  },
  {
   "cell_type": "code",
   "execution_count": 78,
   "id": "06520a06",
   "metadata": {},
   "outputs": [
    {
     "data": {
      "text/html": [
       "<div>\n",
       "<style scoped>\n",
       "    .dataframe tbody tr th:only-of-type {\n",
       "        vertical-align: middle;\n",
       "    }\n",
       "\n",
       "    .dataframe tbody tr th {\n",
       "        vertical-align: top;\n",
       "    }\n",
       "\n",
       "    .dataframe thead th {\n",
       "        text-align: right;\n",
       "    }\n",
       "</style>\n",
       "<table border=\"1\" class=\"dataframe\">\n",
       "  <thead>\n",
       "    <tr style=\"text-align: right;\">\n",
       "      <th></th>\n",
       "      <th>feature</th>\n",
       "      <th>importance</th>\n",
       "    </tr>\n",
       "  </thead>\n",
       "  <tbody>\n",
       "    <tr>\n",
       "      <th>8</th>\n",
       "      <td>cred_sum_debt_all_all</td>\n",
       "      <td>0.450393</td>\n",
       "    </tr>\n",
       "    <tr>\n",
       "      <th>13</th>\n",
       "      <td>cred_day_overdue_all_sum_all</td>\n",
       "      <td>0.240955</td>\n",
       "    </tr>\n",
       "    <tr>\n",
       "      <th>12</th>\n",
       "      <td>all_creds_count_all</td>\n",
       "      <td>0.117563</td>\n",
       "    </tr>\n",
       "    <tr>\n",
       "      <th>9</th>\n",
       "      <td>all_closed_creds_sum_ly</td>\n",
       "      <td>0.046517</td>\n",
       "    </tr>\n",
       "    <tr>\n",
       "      <th>16</th>\n",
       "      <td>cred_sum_overdue_cc_all</td>\n",
       "      <td>0.037487</td>\n",
       "    </tr>\n",
       "    <tr>\n",
       "      <th>7</th>\n",
       "      <td>cred_sum_cc_ly</td>\n",
       "      <td>0.028939</td>\n",
       "    </tr>\n",
       "    <tr>\n",
       "      <th>11</th>\n",
       "      <td>delay_more_sum_all</td>\n",
       "      <td>0.019902</td>\n",
       "    </tr>\n",
       "    <tr>\n",
       "      <th>1</th>\n",
       "      <td>cred_sum_cc_all</td>\n",
       "      <td>0.017200</td>\n",
       "    </tr>\n",
       "    <tr>\n",
       "      <th>3</th>\n",
       "      <td>all_closed_creds_sum_all</td>\n",
       "      <td>0.011711</td>\n",
       "    </tr>\n",
       "    <tr>\n",
       "      <th>0</th>\n",
       "      <td>order_id</td>\n",
       "      <td>0.008867</td>\n",
       "    </tr>\n",
       "    <tr>\n",
       "      <th>18</th>\n",
       "      <td>all_creds_count_lm</td>\n",
       "      <td>0.008262</td>\n",
       "    </tr>\n",
       "    <tr>\n",
       "      <th>4</th>\n",
       "      <td>bank_inqs_count_quarter</td>\n",
       "      <td>0.004492</td>\n",
       "    </tr>\n",
       "    <tr>\n",
       "      <th>6</th>\n",
       "      <td>mfo_last_days_all</td>\n",
       "      <td>0.003619</td>\n",
       "    </tr>\n",
       "    <tr>\n",
       "      <th>15</th>\n",
       "      <td>mfo_closed_count_ly</td>\n",
       "      <td>0.002235</td>\n",
       "    </tr>\n",
       "    <tr>\n",
       "      <th>5</th>\n",
       "      <td>cred_max_overdue_max_ly</td>\n",
       "      <td>0.001199</td>\n",
       "    </tr>\n",
       "    <tr>\n",
       "      <th>10</th>\n",
       "      <td>mfo_cred_mean_sum_3lm</td>\n",
       "      <td>0.000659</td>\n",
       "    </tr>\n",
       "    <tr>\n",
       "      <th>14</th>\n",
       "      <td>cred_max_overdue_max_3lm</td>\n",
       "      <td>0.000000</td>\n",
       "    </tr>\n",
       "    <tr>\n",
       "      <th>2</th>\n",
       "      <td>mfo_inqs_count_month</td>\n",
       "      <td>0.000000</td>\n",
       "    </tr>\n",
       "    <tr>\n",
       "      <th>17</th>\n",
       "      <td>count_overdue_all_3lm</td>\n",
       "      <td>0.000000</td>\n",
       "    </tr>\n",
       "    <tr>\n",
       "      <th>19</th>\n",
       "      <td>work_code</td>\n",
       "      <td>0.000000</td>\n",
       "    </tr>\n",
       "    <tr>\n",
       "      <th>20</th>\n",
       "      <td>month_income</td>\n",
       "      <td>0.000000</td>\n",
       "    </tr>\n",
       "    <tr>\n",
       "      <th>21</th>\n",
       "      <td>region</td>\n",
       "      <td>0.000000</td>\n",
       "    </tr>\n",
       "  </tbody>\n",
       "</table>\n",
       "</div>"
      ],
      "text/plain": [
       "                         feature  importance\n",
       "8          cred_sum_debt_all_all    0.450393\n",
       "13  cred_day_overdue_all_sum_all    0.240955\n",
       "12           all_creds_count_all    0.117563\n",
       "9        all_closed_creds_sum_ly    0.046517\n",
       "16       cred_sum_overdue_cc_all    0.037487\n",
       "7                 cred_sum_cc_ly    0.028939\n",
       "11            delay_more_sum_all    0.019902\n",
       "1                cred_sum_cc_all    0.017200\n",
       "3       all_closed_creds_sum_all    0.011711\n",
       "0                       order_id    0.008867\n",
       "18            all_creds_count_lm    0.008262\n",
       "4        bank_inqs_count_quarter    0.004492\n",
       "6              mfo_last_days_all    0.003619\n",
       "15           mfo_closed_count_ly    0.002235\n",
       "5        cred_max_overdue_max_ly    0.001199\n",
       "10         mfo_cred_mean_sum_3lm    0.000659\n",
       "14      cred_max_overdue_max_3lm    0.000000\n",
       "2           mfo_inqs_count_month    0.000000\n",
       "17         count_overdue_all_3lm    0.000000\n",
       "19                     work_code    0.000000\n",
       "20                  month_income    0.000000\n",
       "21                        region    0.000000"
      ]
     },
     "execution_count": 78,
     "metadata": {},
     "output_type": "execute_result"
    }
   ],
   "source": [
    "pd.DataFrame({'feature': credit_approved.iloc[:, :-1].columns,\n",
    "              'importance': best_model.feature_importances_}).sort_values('importance', ascending=False)"
   ]
  },
  {
   "cell_type": "markdown",
   "id": "720cd99e",
   "metadata": {},
   "source": [
    "По таблице видно, что большую значимость для выходного параметра (approved) вкладывают:\n",
    "1. *cred_sum_debt_all_all* - сумма задолженности по всем кредитам \n",
    "2. *cred_day_overdue_all_sum_all* - cуммарное количество дней просрочки текущих активных кредитов\n",
    "\n",
    "И почти ничего не значат параметры:\n",
    "1. *cred_max_overdue_max_3lm* - максимальная сумма просроченной задолженности, по кредитам взятым за последние 3 месяца\n",
    "2. *mfo_inqs_count_month* - количество запросов на кредиты в другие в МФО\n",
    "3. *count_overdue_all_3lm* - количество кредитов на просрочке, взятых за последние 3 месяца\n",
    "4. *work_code* - профессия\n",
    "5. *region* - регион подачи заявки\n",
    "\n",
    "То есть в основном параметры, которые не связаны ни с суммами ранее взятых кредитов, ни с количеством просроченных кредитов."
   ]
  },
  {
   "cell_type": "markdown",
   "id": "7e7b671d",
   "metadata": {},
   "source": [
    "# Random Forest Classifier"
   ]
  },
  {
   "cell_type": "code",
   "execution_count": 79,
   "id": "652365cf",
   "metadata": {},
   "outputs": [],
   "source": [
    "from sklearn.ensemble import RandomForestClassifier"
   ]
  },
  {
   "cell_type": "code",
   "execution_count": 80,
   "id": "ab4138ee",
   "metadata": {},
   "outputs": [
    {
     "data": {
      "text/html": [
       "<style>#sk-container-id-6 {color: black;background-color: white;}#sk-container-id-6 pre{padding: 0;}#sk-container-id-6 div.sk-toggleable {background-color: white;}#sk-container-id-6 label.sk-toggleable__label {cursor: pointer;display: block;width: 100%;margin-bottom: 0;padding: 0.3em;box-sizing: border-box;text-align: center;}#sk-container-id-6 label.sk-toggleable__label-arrow:before {content: \"▸\";float: left;margin-right: 0.25em;color: #696969;}#sk-container-id-6 label.sk-toggleable__label-arrow:hover:before {color: black;}#sk-container-id-6 div.sk-estimator:hover label.sk-toggleable__label-arrow:before {color: black;}#sk-container-id-6 div.sk-toggleable__content {max-height: 0;max-width: 0;overflow: hidden;text-align: left;background-color: #f0f8ff;}#sk-container-id-6 div.sk-toggleable__content pre {margin: 0.2em;color: black;border-radius: 0.25em;background-color: #f0f8ff;}#sk-container-id-6 input.sk-toggleable__control:checked~div.sk-toggleable__content {max-height: 200px;max-width: 100%;overflow: auto;}#sk-container-id-6 input.sk-toggleable__control:checked~label.sk-toggleable__label-arrow:before {content: \"▾\";}#sk-container-id-6 div.sk-estimator input.sk-toggleable__control:checked~label.sk-toggleable__label {background-color: #d4ebff;}#sk-container-id-6 div.sk-label input.sk-toggleable__control:checked~label.sk-toggleable__label {background-color: #d4ebff;}#sk-container-id-6 input.sk-hidden--visually {border: 0;clip: rect(1px 1px 1px 1px);clip: rect(1px, 1px, 1px, 1px);height: 1px;margin: -1px;overflow: hidden;padding: 0;position: absolute;width: 1px;}#sk-container-id-6 div.sk-estimator {font-family: monospace;background-color: #f0f8ff;border: 1px dotted black;border-radius: 0.25em;box-sizing: border-box;margin-bottom: 0.5em;}#sk-container-id-6 div.sk-estimator:hover {background-color: #d4ebff;}#sk-container-id-6 div.sk-parallel-item::after {content: \"\";width: 100%;border-bottom: 1px solid gray;flex-grow: 1;}#sk-container-id-6 div.sk-label:hover label.sk-toggleable__label {background-color: #d4ebff;}#sk-container-id-6 div.sk-serial::before {content: \"\";position: absolute;border-left: 1px solid gray;box-sizing: border-box;top: 0;bottom: 0;left: 50%;z-index: 0;}#sk-container-id-6 div.sk-serial {display: flex;flex-direction: column;align-items: center;background-color: white;padding-right: 0.2em;padding-left: 0.2em;position: relative;}#sk-container-id-6 div.sk-item {position: relative;z-index: 1;}#sk-container-id-6 div.sk-parallel {display: flex;align-items: stretch;justify-content: center;background-color: white;position: relative;}#sk-container-id-6 div.sk-item::before, #sk-container-id-6 div.sk-parallel-item::before {content: \"\";position: absolute;border-left: 1px solid gray;box-sizing: border-box;top: 0;bottom: 0;left: 50%;z-index: -1;}#sk-container-id-6 div.sk-parallel-item {display: flex;flex-direction: column;z-index: 1;position: relative;background-color: white;}#sk-container-id-6 div.sk-parallel-item:first-child::after {align-self: flex-end;width: 50%;}#sk-container-id-6 div.sk-parallel-item:last-child::after {align-self: flex-start;width: 50%;}#sk-container-id-6 div.sk-parallel-item:only-child::after {width: 0;}#sk-container-id-6 div.sk-dashed-wrapped {border: 1px dashed gray;margin: 0 0.4em 0.5em 0.4em;box-sizing: border-box;padding-bottom: 0.4em;background-color: white;}#sk-container-id-6 div.sk-label label {font-family: monospace;font-weight: bold;display: inline-block;line-height: 1.2em;}#sk-container-id-6 div.sk-label-container {text-align: center;}#sk-container-id-6 div.sk-container {/* jupyter's `normalize.less` sets `[hidden] { display: none; }` but bootstrap.min.css set `[hidden] { display: none !important; }` so we also need the `!important` here to be able to override the default hidden behavior on the sphinx rendered scikit-learn.org. See: https://github.com/scikit-learn/scikit-learn/issues/21755 */display: inline-block !important;position: relative;}#sk-container-id-6 div.sk-text-repr-fallback {display: none;}</style><div id=\"sk-container-id-6\" class=\"sk-top-container\"><div class=\"sk-text-repr-fallback\"><pre>GridSearchCV(cv=2,\n",
       "             estimator=RandomForestClassifier(max_depth=5, min_samples_leaf=10,\n",
       "                                              min_samples_split=15,\n",
       "                                              n_estimators=80,\n",
       "                                              random_state=42),\n",
       "             param_grid={&#x27;max_depth&#x27;: [4, 5, 6], &#x27;max_features&#x27;: [1, 3, 10],\n",
       "                         &#x27;min_samples_split&#x27;: [3, 5, 10, 15],\n",
       "                         &#x27;n_estimators&#x27;: [30, 40, 50, 100]},\n",
       "             scoring=&#x27;accuracy&#x27;)</pre><b>In a Jupyter environment, please rerun this cell to show the HTML representation or trust the notebook. <br />On GitHub, the HTML representation is unable to render, please try loading this page with nbviewer.org.</b></div><div class=\"sk-container\" hidden><div class=\"sk-item sk-dashed-wrapped\"><div class=\"sk-label-container\"><div class=\"sk-label sk-toggleable\"><input class=\"sk-toggleable__control sk-hidden--visually\" id=\"sk-estimator-id-16\" type=\"checkbox\" ><label for=\"sk-estimator-id-16\" class=\"sk-toggleable__label sk-toggleable__label-arrow\">GridSearchCV</label><div class=\"sk-toggleable__content\"><pre>GridSearchCV(cv=2,\n",
       "             estimator=RandomForestClassifier(max_depth=5, min_samples_leaf=10,\n",
       "                                              min_samples_split=15,\n",
       "                                              n_estimators=80,\n",
       "                                              random_state=42),\n",
       "             param_grid={&#x27;max_depth&#x27;: [4, 5, 6], &#x27;max_features&#x27;: [1, 3, 10],\n",
       "                         &#x27;min_samples_split&#x27;: [3, 5, 10, 15],\n",
       "                         &#x27;n_estimators&#x27;: [30, 40, 50, 100]},\n",
       "             scoring=&#x27;accuracy&#x27;)</pre></div></div></div><div class=\"sk-parallel\"><div class=\"sk-parallel-item\"><div class=\"sk-item\"><div class=\"sk-label-container\"><div class=\"sk-label sk-toggleable\"><input class=\"sk-toggleable__control sk-hidden--visually\" id=\"sk-estimator-id-17\" type=\"checkbox\" ><label for=\"sk-estimator-id-17\" class=\"sk-toggleable__label sk-toggleable__label-arrow\">estimator: RandomForestClassifier</label><div class=\"sk-toggleable__content\"><pre>RandomForestClassifier(max_depth=5, min_samples_leaf=10, min_samples_split=15,\n",
       "                       n_estimators=80, random_state=42)</pre></div></div></div><div class=\"sk-serial\"><div class=\"sk-item\"><div class=\"sk-estimator sk-toggleable\"><input class=\"sk-toggleable__control sk-hidden--visually\" id=\"sk-estimator-id-18\" type=\"checkbox\" ><label for=\"sk-estimator-id-18\" class=\"sk-toggleable__label sk-toggleable__label-arrow\">RandomForestClassifier</label><div class=\"sk-toggleable__content\"><pre>RandomForestClassifier(max_depth=5, min_samples_leaf=10, min_samples_split=15,\n",
       "                       n_estimators=80, random_state=42)</pre></div></div></div></div></div></div></div></div></div></div>"
      ],
      "text/plain": [
       "GridSearchCV(cv=2,\n",
       "             estimator=RandomForestClassifier(max_depth=5, min_samples_leaf=10,\n",
       "                                              min_samples_split=15,\n",
       "                                              n_estimators=80,\n",
       "                                              random_state=42),\n",
       "             param_grid={'max_depth': [4, 5, 6], 'max_features': [1, 3, 10],\n",
       "                         'min_samples_split': [3, 5, 10, 15],\n",
       "                         'n_estimators': [30, 40, 50, 100]},\n",
       "             scoring='accuracy')"
      ]
     },
     "execution_count": 80,
     "metadata": {},
     "output_type": "execute_result"
    }
   ],
   "source": [
    "param_grid = {  \n",
    "      'n_estimators': [30, 40, 50, 100],\n",
    "      'max_depth': [4, 5, 6],\n",
    "      'max_features': [1, 3, 10],\n",
    "      'min_samples_split': [3, 5, 10, 15],\n",
    "}\n",
    "\n",
    "rfc = RandomForestClassifier(random_state=42,\n",
    "                               n_estimators=80,\n",
    "                               max_depth=5,\n",
    "                               min_samples_leaf=10, \n",
    "                               min_samples_split=15)\n",
    "\n",
    "grid_CV = GridSearchCV(rfc, param_grid=param_grid, \n",
    "                               cv=2, \n",
    "                               scoring='accuracy')\n",
    "\n",
    "grid_CV.fit(X_train, y_train)"
   ]
  },
  {
   "cell_type": "code",
   "execution_count": 81,
   "id": "a753307c",
   "metadata": {},
   "outputs": [
    {
     "name": "stdout",
     "output_type": "stream",
     "text": [
      "Лучшие значения гиперпараметров:\n",
      " {'max_depth': 6, 'max_features': 10, 'min_samples_split': 3, 'n_estimators': 100}\n"
     ]
    }
   ],
   "source": [
    "best_hyperparams = grid_CV.best_params_\n",
    "print('Лучшие значения гиперпараметров:\\n', best_hyperparams)"
   ]
  },
  {
   "cell_type": "code",
   "execution_count": 82,
   "id": "49ff5718",
   "metadata": {},
   "outputs": [
    {
     "name": "stdout",
     "output_type": "stream",
     "text": [
      "Таблица сопряженности для обучающей выборки\n",
      "      0     1\n",
      "0  9850   709\n",
      "1   800  4128\n",
      " \n",
      "Accuracy на обучающей выборке 0.9025634403047718\n",
      " \n",
      "              precision    recall  f1-score   support\n",
      "\n",
      "           0       0.92      0.93      0.93     10559\n",
      "           1       0.85      0.84      0.85      4928\n",
      "\n",
      "    accuracy                           0.90     15487\n",
      "   macro avg       0.89      0.89      0.89     15487\n",
      "weighted avg       0.90      0.90      0.90     15487\n",
      "\n",
      " \n",
      "Таблица сопряженности для тестовой выборки\n",
      "      0     1\n",
      "0  4884   404\n",
      "1   391  1950\n",
      " \n",
      "Accuracy на тестовой выборке 0.8957923712151002\n",
      " \n",
      "              precision    recall  f1-score   support\n",
      "\n",
      "           0       0.93      0.92      0.92      5288\n",
      "           1       0.83      0.83      0.83      2341\n",
      "\n",
      "    accuracy                           0.90      7629\n",
      "   macro avg       0.88      0.88      0.88      7629\n",
      "weighted avg       0.90      0.90      0.90      7629\n",
      "\n"
     ]
    }
   ],
   "source": [
    "best_model = grid_CV.best_estimator_\n",
    "\n",
    "y_pred_train = best_model.predict(X_train)  \n",
    "y_pred_test = best_model.predict(X_test) \n",
    "\n",
    "conf_mat = confusion_matrix(y_train, y_pred_train)\n",
    "conf_mat_train = pd.DataFrame(conf_mat, index=best_model.classes_, columns=best_model.classes_)\n",
    "\n",
    "print(u'Таблица сопряженности для обучающей выборки')\n",
    "print(conf_mat_train)  \n",
    "print(' ')\n",
    "print('Accuracy на обучающей выборке', accuracy_score(y_train, y_pred_train, normalize=True))\n",
    "print(' ')\n",
    "print(classification_report(y_train, y_pred_train)) \n",
    "\n",
    "conf_mat = confusion_matrix(y_test, y_pred_test)\n",
    "conf_mat_test = pd.DataFrame(conf_mat, index=best_model.classes_, columns=best_model.classes_)\n",
    "\n",
    "print(' ')\n",
    "print(u'Таблица сопряженности для тестовой выборки')\n",
    "print(conf_mat_test) \n",
    "print(' ')\n",
    "print('Accuracy на тестовой выборке', accuracy_score(y_test, y_pred_test, normalize=True))\n",
    "print(' ')\n",
    "print(classification_report(y_test, y_pred_test))"
   ]
  },
  {
   "cell_type": "code",
   "execution_count": 83,
   "id": "8ff56fb8",
   "metadata": {},
   "outputs": [
    {
     "data": {
      "text/html": [
       "<div>\n",
       "<style scoped>\n",
       "    .dataframe tbody tr th:only-of-type {\n",
       "        vertical-align: middle;\n",
       "    }\n",
       "\n",
       "    .dataframe tbody tr th {\n",
       "        vertical-align: top;\n",
       "    }\n",
       "\n",
       "    .dataframe thead th {\n",
       "        text-align: right;\n",
       "    }\n",
       "</style>\n",
       "<table border=\"1\" class=\"dataframe\">\n",
       "  <thead>\n",
       "    <tr style=\"text-align: right;\">\n",
       "      <th></th>\n",
       "      <th>feature</th>\n",
       "      <th>importance</th>\n",
       "    </tr>\n",
       "  </thead>\n",
       "  <tbody>\n",
       "    <tr>\n",
       "      <th>8</th>\n",
       "      <td>cred_sum_debt_all_all</td>\n",
       "      <td>0.280851</td>\n",
       "    </tr>\n",
       "    <tr>\n",
       "      <th>13</th>\n",
       "      <td>cred_day_overdue_all_sum_all</td>\n",
       "      <td>0.195636</td>\n",
       "    </tr>\n",
       "    <tr>\n",
       "      <th>9</th>\n",
       "      <td>all_closed_creds_sum_ly</td>\n",
       "      <td>0.133429</td>\n",
       "    </tr>\n",
       "    <tr>\n",
       "      <th>18</th>\n",
       "      <td>all_creds_count_lm</td>\n",
       "      <td>0.062082</td>\n",
       "    </tr>\n",
       "    <tr>\n",
       "      <th>10</th>\n",
       "      <td>mfo_cred_mean_sum_3lm</td>\n",
       "      <td>0.053291</td>\n",
       "    </tr>\n",
       "    <tr>\n",
       "      <th>7</th>\n",
       "      <td>cred_sum_cc_ly</td>\n",
       "      <td>0.049405</td>\n",
       "    </tr>\n",
       "    <tr>\n",
       "      <th>12</th>\n",
       "      <td>all_creds_count_all</td>\n",
       "      <td>0.045409</td>\n",
       "    </tr>\n",
       "    <tr>\n",
       "      <th>16</th>\n",
       "      <td>cred_sum_overdue_cc_all</td>\n",
       "      <td>0.029801</td>\n",
       "    </tr>\n",
       "    <tr>\n",
       "      <th>15</th>\n",
       "      <td>mfo_closed_count_ly</td>\n",
       "      <td>0.027822</td>\n",
       "    </tr>\n",
       "    <tr>\n",
       "      <th>4</th>\n",
       "      <td>bank_inqs_count_quarter</td>\n",
       "      <td>0.023425</td>\n",
       "    </tr>\n",
       "    <tr>\n",
       "      <th>6</th>\n",
       "      <td>mfo_last_days_all</td>\n",
       "      <td>0.023056</td>\n",
       "    </tr>\n",
       "    <tr>\n",
       "      <th>3</th>\n",
       "      <td>all_closed_creds_sum_all</td>\n",
       "      <td>0.020164</td>\n",
       "    </tr>\n",
       "    <tr>\n",
       "      <th>11</th>\n",
       "      <td>delay_more_sum_all</td>\n",
       "      <td>0.018702</td>\n",
       "    </tr>\n",
       "    <tr>\n",
       "      <th>1</th>\n",
       "      <td>cred_sum_cc_all</td>\n",
       "      <td>0.016859</td>\n",
       "    </tr>\n",
       "    <tr>\n",
       "      <th>5</th>\n",
       "      <td>cred_max_overdue_max_ly</td>\n",
       "      <td>0.009343</td>\n",
       "    </tr>\n",
       "    <tr>\n",
       "      <th>17</th>\n",
       "      <td>count_overdue_all_3lm</td>\n",
       "      <td>0.004608</td>\n",
       "    </tr>\n",
       "    <tr>\n",
       "      <th>0</th>\n",
       "      <td>order_id</td>\n",
       "      <td>0.003190</td>\n",
       "    </tr>\n",
       "    <tr>\n",
       "      <th>14</th>\n",
       "      <td>cred_max_overdue_max_3lm</td>\n",
       "      <td>0.001088</td>\n",
       "    </tr>\n",
       "    <tr>\n",
       "      <th>20</th>\n",
       "      <td>month_income</td>\n",
       "      <td>0.000620</td>\n",
       "    </tr>\n",
       "    <tr>\n",
       "      <th>19</th>\n",
       "      <td>work_code</td>\n",
       "      <td>0.000486</td>\n",
       "    </tr>\n",
       "    <tr>\n",
       "      <th>21</th>\n",
       "      <td>region</td>\n",
       "      <td>0.000485</td>\n",
       "    </tr>\n",
       "    <tr>\n",
       "      <th>2</th>\n",
       "      <td>mfo_inqs_count_month</td>\n",
       "      <td>0.000247</td>\n",
       "    </tr>\n",
       "  </tbody>\n",
       "</table>\n",
       "</div>"
      ],
      "text/plain": [
       "                         feature  importance\n",
       "8          cred_sum_debt_all_all    0.280851\n",
       "13  cred_day_overdue_all_sum_all    0.195636\n",
       "9        all_closed_creds_sum_ly    0.133429\n",
       "18            all_creds_count_lm    0.062082\n",
       "10         mfo_cred_mean_sum_3lm    0.053291\n",
       "7                 cred_sum_cc_ly    0.049405\n",
       "12           all_creds_count_all    0.045409\n",
       "16       cred_sum_overdue_cc_all    0.029801\n",
       "15           mfo_closed_count_ly    0.027822\n",
       "4        bank_inqs_count_quarter    0.023425\n",
       "6              mfo_last_days_all    0.023056\n",
       "3       all_closed_creds_sum_all    0.020164\n",
       "11            delay_more_sum_all    0.018702\n",
       "1                cred_sum_cc_all    0.016859\n",
       "5        cred_max_overdue_max_ly    0.009343\n",
       "17         count_overdue_all_3lm    0.004608\n",
       "0                       order_id    0.003190\n",
       "14      cred_max_overdue_max_3lm    0.001088\n",
       "20                  month_income    0.000620\n",
       "19                     work_code    0.000486\n",
       "21                        region    0.000485\n",
       "2           mfo_inqs_count_month    0.000247"
      ]
     },
     "execution_count": 83,
     "metadata": {},
     "output_type": "execute_result"
    }
   ],
   "source": [
    "pd.DataFrame({'feature': credit_approved.iloc[:, :-1].columns,\n",
    "              'importance': best_model.feature_importances_}).sort_values('importance', ascending=False)"
   ]
  },
  {
   "cell_type": "markdown",
   "id": "1417cf7e",
   "metadata": {},
   "source": [
    "В целом ранжировка параметров по убыванию их значимости схожа с результатами DTC."
   ]
  },
  {
   "cell_type": "markdown",
   "id": "e69c8114",
   "metadata": {},
   "source": [
    "# Gradient Boosting Classifier"
   ]
  },
  {
   "cell_type": "code",
   "execution_count": 84,
   "id": "4544c9fe",
   "metadata": {},
   "outputs": [],
   "source": [
    "from sklearn.ensemble import GradientBoostingClassifier"
   ]
  },
  {
   "cell_type": "code",
   "execution_count": 85,
   "id": "90ed8869",
   "metadata": {},
   "outputs": [
    {
     "name": "stdout",
     "output_type": "stream",
     "text": [
      "Лучшие значения гиперпараметров:\n",
      " {'max_depth': 4, 'min_samples_leaf': 4, 'min_samples_split': 3, 'n_estimators': 400}\n"
     ]
    }
   ],
   "source": [
    "param_grid = {  \n",
    "      'n_estimators': [400, 500, 450],\n",
    "      'min_samples_leaf': [4, 5, 6],\n",
    "      'max_depth': [4, 5, 6],\n",
    "      'min_samples_split': [3, 5, 10, 15],\n",
    "}\n",
    "\n",
    "gbc = GradientBoostingClassifier(random_state=42,\n",
    "                                   n_estimators=500,\n",
    "                                   min_samples_leaf=5, \n",
    "                                   min_samples_split=10,\n",
    "                                   max_depth=5,\n",
    "                                   )\n",
    "\n",
    "grid_CV = GridSearchCV(gbc, param_grid=param_grid, cv=2, \n",
    "                               scoring='accuracy')\n",
    "\n",
    "grid_CV.fit(X_train, y_train)\n",
    "\n",
    "best_hyperparams = grid_CV.best_params_\n",
    "print('Лучшие значения гиперпараметров:\\n', best_hyperparams)"
   ]
  },
  {
   "cell_type": "code",
   "execution_count": 86,
   "id": "ca96d474",
   "metadata": {},
   "outputs": [
    {
     "name": "stdout",
     "output_type": "stream",
     "text": [
      "Таблица сопряженности для обучающей выборки\n",
      "       0     1\n",
      "0  10245   314\n",
      "1    417  4511\n",
      " \n",
      "Accuracy на обучающей выборке 0.9527991218441273\n",
      " \n",
      "              precision    recall  f1-score   support\n",
      "\n",
      "           0       0.96      0.97      0.97     10559\n",
      "           1       0.93      0.92      0.93      4928\n",
      "\n",
      "    accuracy                           0.95     15487\n",
      "   macro avg       0.95      0.94      0.95     15487\n",
      "weighted avg       0.95      0.95      0.95     15487\n",
      "\n",
      " \n",
      "Таблица сопряженности для тестовой выборки\n",
      "      0     1\n",
      "0  4925   363\n",
      "1   342  1999\n",
      " \n",
      "Accuracy на тестовой выборке 0.907589461266221\n",
      " \n",
      "              precision    recall  f1-score   support\n",
      "\n",
      "           0       0.94      0.93      0.93      5288\n",
      "           1       0.85      0.85      0.85      2341\n",
      "\n",
      "    accuracy                           0.91      7629\n",
      "   macro avg       0.89      0.89      0.89      7629\n",
      "weighted avg       0.91      0.91      0.91      7629\n",
      "\n"
     ]
    }
   ],
   "source": [
    "best_model = grid_CV.best_estimator_\n",
    "\n",
    "y_pred_train = best_model.predict(X_train)  \n",
    "y_pred_test = best_model.predict(X_test) \n",
    "\n",
    "conf_mat = confusion_matrix(y_train, y_pred_train)\n",
    "conf_mat_train = pd.DataFrame(conf_mat, index=best_model.classes_, columns=best_model.classes_)\n",
    "\n",
    "print(u'Таблица сопряженности для обучающей выборки')\n",
    "print(conf_mat_train)  \n",
    "print(' ')\n",
    "print('Accuracy на обучающей выборке', accuracy_score(y_train, y_pred_train, normalize=True))\n",
    "print(' ')\n",
    "print(classification_report(y_train, y_pred_train)) \n",
    "\n",
    "conf_mat = confusion_matrix(y_test, y_pred_test)\n",
    "conf_mat_test = pd.DataFrame(conf_mat, index=best_model.classes_, columns=best_model.classes_)\n",
    "\n",
    "print(' ')\n",
    "print(u'Таблица сопряженности для тестовой выборки')\n",
    "print(conf_mat_test) \n",
    "print(' ')\n",
    "print('Accuracy на тестовой выборке', accuracy_score(y_test, y_pred_test, normalize=True))\n",
    "print(' ')\n",
    "print(classification_report(y_test, y_pred_test))"
   ]
  },
  {
   "cell_type": "markdown",
   "id": "07c3a8a8",
   "metadata": {},
   "source": [
    "# XGBoost Classifier"
   ]
  },
  {
   "cell_type": "code",
   "execution_count": 87,
   "id": "a18f5e9d",
   "metadata": {},
   "outputs": [],
   "source": [
    "from xgboost import XGBClassifier\n",
    "from sklearn.preprocessing import LabelEncoder"
   ]
  },
  {
   "cell_type": "code",
   "execution_count": 88,
   "id": "7cdb4375",
   "metadata": {},
   "outputs": [
    {
     "name": "stdout",
     "output_type": "stream",
     "text": [
      "[02:04:19] WARNING: /Users/runner/work/xgboost/xgboost/python-package/build/temp.macosx-10.9-x86_64-cpython-37/xgboost/src/learner.cc:627: \n",
      "Parameters: { \"silent\" } might not be used.\n",
      "\n",
      "  This could be a false alarm, with some parameters getting used by language bindings but\n",
      "  then being mistakenly passed down to XGBoost core, or some parameter actually being used\n",
      "  but getting flagged wrongly here. Please open an issue if you find any such cases.\n",
      "\n",
      "\n",
      "Лучшие значения гиперпараметров:\n",
      " {'max_depth': 5, 'n_estimators': 100}\n"
     ]
    }
   ],
   "source": [
    "param_grid = {  \n",
    "    'n_estimators': [100, 500, 800],\n",
    "    'max_depth': [3, 5, 6]\n",
    "}\n",
    "\n",
    "xgbc = XGBClassifier(base_score=0.5, \n",
    "                        seed=1234, \n",
    "                        objective='binary:logistic',                         \n",
    "                        learning_rate=0.1, \n",
    "                        silent=True,\n",
    "                        use_label_encoder=False)\n",
    "\n",
    "grid_CV = GridSearchCV(xgbc,\n",
    "                               cv=5, \n",
    "                               error_score='raise',\n",
    "                               param_grid = param_grid,\n",
    "                               n_jobs=-1,\n",
    "                               pre_dispatch='2*n_jobs', \n",
    "                               refit=True, \n",
    "                               scoring='accuracy', \n",
    "                               verbose=0)\n",
    "\n",
    "le = LabelEncoder()\n",
    "y_train = le.fit_transform(y_train)\n",
    "\n",
    "grid_CV.fit(X_train, y_train)\n",
    "\n",
    "best_hyperparams = grid_CV.best_params_\n",
    "print('Лучшие значения гиперпараметров:\\n', best_hyperparams)"
   ]
  },
  {
   "cell_type": "code",
   "execution_count": 89,
   "id": "345c33a4",
   "metadata": {},
   "outputs": [
    {
     "name": "stdout",
     "output_type": "stream",
     "text": [
      "Таблица сопряженности для обучающей выборки\n",
      "       0     1\n",
      "0  10069   490\n",
      "1    539  4389\n",
      " \n",
      "Accuracy на обучающей выборке 0.9335571769871505\n",
      " \n",
      "              precision    recall  f1-score   support\n",
      "\n",
      "           0       0.95      0.95      0.95     10559\n",
      "           1       0.90      0.89      0.90      4928\n",
      "\n",
      "    accuracy                           0.93     15487\n",
      "   macro avg       0.92      0.92      0.92     15487\n",
      "weighted avg       0.93      0.93      0.93     15487\n",
      "\n"
     ]
    }
   ],
   "source": [
    "best_model = grid_CV.best_estimator_\n",
    "\n",
    "y_pred_train = best_model.predict(X_train)  \n",
    "y_pred_test = best_model.predict(X_test) \n",
    "\n",
    "conf_mat = confusion_matrix(y_train, y_pred_train)\n",
    "conf_mat_train = pd.DataFrame(conf_mat, index=best_model.classes_, columns=best_model.classes_)\n",
    "\n",
    "print(u'Таблица сопряженности для обучающей выборки')\n",
    "print(conf_mat_train)  \n",
    "print(' ')\n",
    "print('Accuracy на обучающей выборке', accuracy_score(y_train, y_pred_train, normalize=True))\n",
    "print(' ')\n",
    "print(classification_report(y_train, y_pred_train)) "
   ]
  },
  {
   "cell_type": "code",
   "execution_count": 91,
   "id": "7f39cdc5",
   "metadata": {},
   "outputs": [],
   "source": [
    "le = LabelEncoder()\n",
    "y_test = le.fit_transform(y_test)"
   ]
  },
  {
   "cell_type": "code",
   "execution_count": 92,
   "id": "1445deba",
   "metadata": {},
   "outputs": [
    {
     "name": "stdout",
     "output_type": "stream",
     "text": [
      " \n",
      "Таблица сопряженности для тестовой выборки\n",
      "      0     1\n",
      "0  4935   353\n",
      "1   352  1989\n",
      " \n",
      "Accuracy на тестовой выборке 0.907589461266221\n",
      " \n",
      "              precision    recall  f1-score   support\n",
      "\n",
      "           0       0.93      0.93      0.93      5288\n",
      "           1       0.85      0.85      0.85      2341\n",
      "\n",
      "    accuracy                           0.91      7629\n",
      "   macro avg       0.89      0.89      0.89      7629\n",
      "weighted avg       0.91      0.91      0.91      7629\n",
      "\n"
     ]
    }
   ],
   "source": [
    "conf_mat = confusion_matrix(y_test, y_pred_test)\n",
    "conf_mat_test = pd.DataFrame(conf_mat, index=best_model.classes_, columns=best_model.classes_)\n",
    "\n",
    "print(' ')\n",
    "print(u'Таблица сопряженности для тестовой выборки')\n",
    "print(conf_mat_test) \n",
    "print(' ')\n",
    "print('Accuracy на тестовой выборке', accuracy_score(y_test, y_pred_test, normalize=True))\n",
    "print(' ')\n",
    "print(classification_report(y_test, y_pred_test))"
   ]
  },
  {
   "cell_type": "markdown",
   "id": "e3724cc1",
   "metadata": {},
   "source": [
    "Оба последних метода дали одинаково высокий резльтат на тестовой выборке. Оба метода относятся к семейству бустинг методов"
   ]
  },
  {
   "cell_type": "code",
   "execution_count": null,
   "id": "c4787504",
   "metadata": {},
   "outputs": [],
   "source": []
  }
 ],
 "metadata": {
  "kernelspec": {
   "display_name": "Python 3 (ipykernel)",
   "language": "python",
   "name": "python3"
  },
  "language_info": {
   "codemirror_mode": {
    "name": "ipython",
    "version": 3
   },
   "file_extension": ".py",
   "mimetype": "text/x-python",
   "name": "python",
   "nbconvert_exporter": "python",
   "pygments_lexer": "ipython3",
   "version": "3.10.6"
  }
 },
 "nbformat": 4,
 "nbformat_minor": 5
}
